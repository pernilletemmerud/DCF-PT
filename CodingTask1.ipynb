{
  "nbformat": 4,
  "nbformat_minor": 0,
  "metadata": {
    "colab": {
      "name": "CodingTask1.ipynb",
      "provenance": [],
      "include_colab_link": true
    },
    "kernelspec": {
      "name": "python3",
      "display_name": "Python 3"
    },
    "language_info": {
      "name": "python"
    }
  },
  "cells": [
    {
      "cell_type": "markdown",
      "metadata": {
        "id": "view-in-github",
        "colab_type": "text"
      },
      "source": [
        "<a href=\"https://colab.research.google.com/github/pernilletemmerud/DCF-PT/blob/main/CodingTask1.ipynb\" target=\"_parent\"><img src=\"https://colab.research.google.com/assets/colab-badge.svg\" alt=\"Open In Colab\"/></a>"
      ]
    },
    {
      "cell_type": "markdown",
      "source": [
        "Data Science Fundamentals for DCBP, S. Haug, University of Bern "
      ],
      "metadata": {
        "id": "_-1mhuoK6uqC"
      }
    },
    {
      "cell_type": "markdown",
      "source": [
        "# Coding Task 1\n",
        "\n",
        "- Deadline (upload to Ilias): 2022-03-20 24:00\n",
        "- Estimated effort: 2-5 hours\n",
        "- Data on Ilias (4ms_...) with metadata file CCD-Metadata\n"
      ],
      "metadata": {
        "id": "gn4RkUC66-ou"
      }
    },
    {
      "cell_type": "markdown",
      "source": [
        "## Tasks (maximum 12.5 points)"
      ],
      "metadata": {
        "id": "KYKF2iS56v1z"
      }
    },
    {
      "cell_type": "markdown",
      "source": [
        "- Write a method (function) which removes the header information in the datafile and saves that information into a separate textfile. [0.5 points] \n",
        "- Write a function which reduces the data resolution by averaging over 1, 2, 3 and 4 nm wavelengths. Save these 4 new reduced datasets in new files. Do this (1) by writing an explicit loop and (2) by using pandas methods. Measure the running times of the two approaches. [6 points]\n",
        "- Write a function which takes two wavelengths as input and plots the difference of the data at these lengths over time. [2 points] \n",
        "- Let the x-axis be in seconds, label the axes with names and units, label the plot with color and legend, make a title for the plot. Save the plot to a file. [2 points]\n",
        "- Plot the full and the reduced datasets in the same figure. Is there any visual difference? [2 points]"
      ],
      "metadata": {
        "id": "rXqhhPMu9aPx"
      }
    },
    {
      "cell_type": "code",
      "source": [
        "# mounting the file to the notebook\n",
        "from google.colab import drive\n",
        "drive.mount('/content/drive', force_remount=True)\n",
        "path = '/content/drive/MyDrive/DataScienceFundamentals/data_codingtask_1.txt'"
      ],
      "metadata": {
        "id": "OfvMackX-SFc",
        "outputId": "5c37193a-c17a-47e5-e669-797d2db7e657",
        "colab": {
          "base_uri": "https://localhost:8080/"
        }
      },
      "execution_count": null,
      "outputs": [
        {
          "output_type": "stream",
          "name": "stdout",
          "text": [
            "Mounted at /content/drive\n"
          ]
        }
      ]
    },
    {
      "cell_type": "code",
      "source": [
        "# defining a function which takes a path and a file name as input and returns a \n",
        "# new file containing only the header information\n",
        "\n",
        "def remove_header(path, new_file_name):  \n",
        "  with open (path, 'r+') as f: #opening the file in read and writing mode\n",
        "    lines = f.readlines()      #reading each line and saving it as a list\n",
        "    header = lines[0:13]       #from the metadata I know that the header information is the first 12 lines\n",
        "    rest = lines[14:]          \n",
        "    header_file = open(new_file_name, \"w\")  #creating a new file called textfile.txt, \n",
        "    for e in header:           #writing each line of the header to the new file\n",
        "      header_file.write(str(e))\n",
        "    header_file.close()          #closing new file\n",
        "\n",
        "    data_file = open('data.txt', \"w\")  #creating a new file called data.txt, which will contain the datafile without the header \n",
        "    for e in rest:             #writing each line, except the header, to the new file\n",
        "      data_file.write(str(e))\n",
        "    data_file.close()\n",
        "\n",
        "\n",
        "remove_header(path, 'textfile.txt')   #calling the funtion\n"
      ],
      "metadata": {
        "id": "80iAoL1EZ24I"
      },
      "execution_count": null,
      "outputs": []
    },
    {
      "cell_type": "code",
      "source": [
        "test = open(\"textfile.txt\", \"r\")  #checking if the file was created correctly\n",
        "print(test.read())  "
      ],
      "metadata": {
        "id": "Nzv22-7hc8c6",
        "outputId": "95489408-26e4-4eae-a447-4df22328ad3b",
        "colab": {
          "base_uri": "https://localhost:8080/"
        }
      },
      "execution_count": null,
      "outputs": [
        {
          "output_type": "stream",
          "name": "stdout",
          "text": [
            "Data from 4ms_10 av_15 s_Absorbance_10-32-04-868.txt Node\n",
            "\n",
            "Date: Thu Oct 25 10:32:04 CEST 2018\n",
            "User: Christoph\n",
            "Spectrometer: BALLMOOS\n",
            "Trigger mode: 4\n",
            "Integration Time (sec): 4.000000E-3\n",
            "Scans to average: 10\n",
            "Electric dark correction enabled: true\n",
            "Nonlinearity correction enabled: false\n",
            "Boxcar width: 0\n",
            "XAxis mode: Wavelengths\n",
            "Number of Pixels in Spectrum: 3648\n",
            "\n"
          ]
        }
      ]
    },
    {
      "cell_type": "code",
      "source": [
        "test = open(\"data.txt\", \"r\")  #checking if the file was created correctly\n",
        "print(test.read(50)) "
      ],
      "metadata": {
        "id": "2v_8CaRne7Nr",
        "outputId": "c0c04437-624c-49b9-cd67-32c41d55ada5",
        "colab": {
          "base_uri": "https://localhost:8080/"
        }
      },
      "execution_count": null,
      "outputs": [
        {
          "output_type": "stream",
          "name": "stdout",
          "text": [
            "\t\t316.6137\t316.7492\t316.8847\t317.0203\t317.1558\t317\n"
          ]
        }
      ]
    },
    {
      "cell_type": "code",
      "source": [
        "# importing \n",
        "import pandas as pd"
      ],
      "metadata": {
        "id": "KWr0PQ31Zdxj"
      },
      "execution_count": null,
      "outputs": []
    },
    {
      "cell_type": "code",
      "source": [
        ""
      ],
      "metadata": {
        "id": "kmFr8wXYW8jO"
      },
      "execution_count": null,
      "outputs": []
    },
    {
      "cell_type": "code",
      "source": [
        ""
      ],
      "metadata": {
        "id": "BixbymyQZysR"
      },
      "execution_count": null,
      "outputs": []
    },
    {
      "cell_type": "code",
      "source": [
        ""
      ],
      "metadata": {
        "id": "GG_jHSB3YpCx"
      },
      "execution_count": null,
      "outputs": []
    }
  ]
}