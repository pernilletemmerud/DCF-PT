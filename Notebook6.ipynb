{
  "cells": [
    {
      "cell_type": "markdown",
      "metadata": {
        "id": "view-in-github",
        "colab_type": "text"
      },
      "source": [
        "<a href=\"https://colab.research.google.com/github/pernilletemmerud/DCF-PT/blob/main/Notebook6.ipynb\" target=\"_parent\"><img src=\"https://colab.research.google.com/assets/colab-badge.svg\" alt=\"Open In Colab\"/></a>"
      ]
    },
    {
      "cell_type": "markdown",
      "metadata": {
        "id": "ru7mNBPPCjqV"
      },
      "source": [
        "# 6. Numpy indexing\n",
        "\n",
        "Often we need to extract some information from a Pandas DataFrame. Here also, Pandas inherits many of the approaches used in Numpy. Therefore we start here by very briefly showing how to proceed with plain arrays before looking at the more complex DataFrames.\n",
        "\n",
        "Note that Numpy indexing is very powerful and that we cover here only a tiny fraction of this topic. To learn more you can for example the [Numpy reference](https://numpy.org/doc/stable/reference/arrays.indexing.html#indexing)."
      ]
    },
    {
      "cell_type": "code",
      "execution_count": 1,
      "metadata": {
        "id": "ztwtLIbJDpYx"
      },
      "outputs": [],
      "source": [
        "import numpy as np"
      ]
    },
    {
      "cell_type": "markdown",
      "metadata": {
        "id": "3tMa2-cXDqaA"
      },
      "source": [
        "We first create an array:"
      ]
    },
    {
      "cell_type": "code",
      "execution_count": 3,
      "metadata": {
        "id": "ZsaO3RdIDuMa",
        "outputId": "9f964523-c546-43dc-b064-09cbdcc2f676",
        "colab": {
          "base_uri": "https://localhost:8080/"
        }
      },
      "outputs": [
        {
          "output_type": "execute_result",
          "data": {
            "text/plain": [
              "array([-1.02874472,  0.10227759,  0.18211682, -0.41558345,  1.30546109,\n",
              "        1.79923755,  1.00779615, -0.06210585, -0.26608146,  0.22787908])"
            ]
          },
          "metadata": {},
          "execution_count": 3
        }
      ],
      "source": [
        "my_array = np.random.normal(size=10)\n",
        "my_array"
      ]
    },
    {
      "cell_type": "markdown",
      "metadata": {
        "id": "y5-My76iDyCb"
      },
      "source": [
        "## Extracting and setting elements\n",
        "\n",
        "The standard way to extract information from an array is to used the square parenthesis (bracket) notation. If we want for example to extract the second element of the array we write:\n",
        "\n"
      ]
    },
    {
      "cell_type": "code",
      "execution_count": 4,
      "metadata": {
        "id": "9uxQWL_jEAXH",
        "outputId": "a3495873-61b8-476e-ff22-ab9f05e1ac6c",
        "colab": {
          "base_uri": "https://localhost:8080/"
        }
      },
      "outputs": [
        {
          "output_type": "execute_result",
          "data": {
            "text/plain": [
              "0.1022775871868548"
            ]
          },
          "metadata": {},
          "execution_count": 4
        }
      ],
      "source": [
        "my_array[1]"
      ]
    },
    {
      "cell_type": "markdown",
      "metadata": {
        "id": "IOoZtvSiEDw8"
      },
      "source": [
        "Remember that **we start counting from 0** in Python, which is why the *second* element has index 1.\n",
        "\n",
        "We can extend the notation and extract a range of elements by using the ```from_index:to_index (excluded)``` notation. Here ```excluded``` means that the **last index** specified is **not included**. For example if we want to recover elements with indices from 1 to 3 we write:"
      ]
    },
    {
      "cell_type": "code",
      "execution_count": 5,
      "metadata": {
        "id": "4tCNuBLpELzd",
        "outputId": "cca87720-5e03-402b-85f9-84f83e3b4505",
        "colab": {
          "base_uri": "https://localhost:8080/"
        }
      },
      "outputs": [
        {
          "output_type": "execute_result",
          "data": {
            "text/plain": [
              "array([ 0.10227759,  0.18211682, -0.41558345])"
            ]
          },
          "metadata": {},
          "execution_count": 5
        }
      ],
      "source": [
        "my_array[1:4]"
      ]
    },
    {
      "cell_type": "markdown",
      "metadata": {
        "id": "YXCwO49SEvmh"
      },
      "source": [
        "We can also set values in the array in the same maner. For example let's set the above elements to 10:"
      ]
    },
    {
      "cell_type": "code",
      "execution_count": 6,
      "metadata": {
        "id": "R-cldFxDE-3o"
      },
      "outputs": [],
      "source": [
        "my_array[1:4] = 10"
      ]
    },
    {
      "cell_type": "code",
      "execution_count": 7,
      "metadata": {
        "id": "YzyfJV6wFFSa",
        "outputId": "ec0fd097-feb2-4e71-f847-eea21332544d",
        "colab": {
          "base_uri": "https://localhost:8080/"
        }
      },
      "outputs": [
        {
          "output_type": "execute_result",
          "data": {
            "text/plain": [
              "array([-1.02874472, 10.        , 10.        , 10.        ,  1.30546109,\n",
              "        1.79923755,  1.00779615, -0.06210585, -0.26608146,  0.22787908])"
            ]
          },
          "metadata": {},
          "execution_count": 7
        }
      ],
      "source": [
        "my_array"
      ]
    },
    {
      "cell_type": "markdown",
      "metadata": {
        "id": "wTC1zc6Kcue_"
      },
      "source": [
        "Note that you can sometimes simplify the notation. For example if you want to extract all elements from the 4th one **to the last one**, you don't have to specify the last index, you can simply replace it by ```:```:\n"
      ]
    },
    {
      "cell_type": "code",
      "execution_count": 8,
      "metadata": {
        "id": "3Wh8TLBOdS1f",
        "outputId": "3e117a4b-bf1e-4106-adb4-a43df12813c8",
        "colab": {
          "base_uri": "https://localhost:8080/"
        }
      },
      "outputs": [
        {
          "output_type": "execute_result",
          "data": {
            "text/plain": [
              "array([ 1.30546109,  1.79923755,  1.00779615, -0.06210585, -0.26608146,\n",
              "        0.22787908])"
            ]
          },
          "metadata": {},
          "execution_count": 8
        }
      ],
      "source": [
        "my_array[4::]"
      ]
    },
    {
      "cell_type": "markdown",
      "metadata": {
        "id": "LkdwCr_Ydcdm"
      },
      "source": [
        "## Higher dimensions\n",
        "\n",
        "We have seen before that we can create arrays with more than one dimension (think e.g. of the pixels of an image). For example:"
      ]
    },
    {
      "cell_type": "code",
      "execution_count": 9,
      "metadata": {
        "id": "wnDoPx6KdnVr",
        "outputId": "4d14c40e-026c-4a6a-8657-634254da647e",
        "colab": {
          "base_uri": "https://localhost:8080/"
        }
      },
      "outputs": [
        {
          "output_type": "execute_result",
          "data": {
            "text/plain": [
              "array([[ 1.04651212, -0.8558897 ,  0.46801452,  2.26865445, -0.25921976],\n",
              "       [ 0.57518746,  0.5772263 ,  0.06891476, -0.62125142, -1.06023978],\n",
              "       [-0.28617685, -1.37483518,  1.21137717, -0.2268489 , -0.11302867]])"
            ]
          },
          "metadata": {},
          "execution_count": 9
        }
      ],
      "source": [
        "array2D = np.random.normal(size=(3,5))\n",
        "array2D"
      ]
    },
    {
      "cell_type": "markdown",
      "metadata": {
        "id": "fvh9-Y1UdsiZ"
      },
      "source": [
        "The indexing system works in the same way here. We just have to specify now for each dimension which rows/columns we want to extract with ```my_array[start_row:end_row, start_column:end_column]```:"
      ]
    },
    {
      "cell_type": "code",
      "execution_count": 10,
      "metadata": {
        "id": "PwEp-hwKeBXy",
        "outputId": "b217ab44-5e7b-4308-f06e-fc2c1e143703",
        "colab": {
          "base_uri": "https://localhost:8080/"
        }
      },
      "outputs": [
        {
          "output_type": "execute_result",
          "data": {
            "text/plain": [
              "array([[ 0.57518746,  0.5772263 ],\n",
              "       [-0.28617685, -1.37483518]])"
            ]
          },
          "metadata": {},
          "execution_count": 10
        }
      ],
      "source": [
        "array2D[1:3, 0:2]"
      ]
    },
    {
      "cell_type": "markdown",
      "metadata": {
        "id": "Il56KE3VeIaB"
      },
      "source": [
        "Here again, we can simplify the notation. If we want to select a few rows but **want to keep all columns**, we can again use the ```:``` notation like this:"
      ]
    },
    {
      "cell_type": "code",
      "execution_count": 11,
      "metadata": {
        "id": "2SnaezpQeTGq",
        "outputId": "80325116-d661-4dfb-e77f-edde3d236cbd",
        "colab": {
          "base_uri": "https://localhost:8080/"
        }
      },
      "outputs": [
        {
          "output_type": "execute_result",
          "data": {
            "text/plain": [
              "array([[ 0.57518746,  0.5772263 ,  0.06891476, -0.62125142, -1.06023978],\n",
              "       [-0.28617685, -1.37483518,  1.21137717, -0.2268489 , -0.11302867]])"
            ]
          },
          "metadata": {},
          "execution_count": 11
        }
      ],
      "source": [
        "array2D[1:3, :]"
      ]
    },
    {
      "cell_type": "markdown",
      "metadata": {
        "id": "FsqskNXsFGTG"
      },
      "source": [
        "## Working with sub-parts\n",
        "\n",
        "Using indexing, we can also create a smaller array that we want to work on specifically. For example let's say we are only interested in the 6th to 8th element. We can **extract** it and **asign** it to a new array:"
      ]
    },
    {
      "cell_type": "code",
      "execution_count": 12,
      "metadata": {
        "id": "vtuQhL9EFt08"
      },
      "outputs": [],
      "source": [
        "sub_array = my_array[7:10]"
      ]
    },
    {
      "cell_type": "code",
      "execution_count": 13,
      "metadata": {
        "id": "Wa9qPa0nFzUW",
        "outputId": "e4678c02-adf5-4df4-c094-76a9739bcec9",
        "colab": {
          "base_uri": "https://localhost:8080/"
        }
      },
      "outputs": [
        {
          "output_type": "execute_result",
          "data": {
            "text/plain": [
              "array([-1.02874472, 10.        , 10.        , 10.        ,  1.30546109,\n",
              "        1.79923755,  1.00779615, -0.06210585, -0.26608146,  0.22787908])"
            ]
          },
          "metadata": {},
          "execution_count": 13
        }
      ],
      "source": [
        "my_array"
      ]
    },
    {
      "cell_type": "code",
      "execution_count": 14,
      "metadata": {
        "id": "vInkaepAF0zc",
        "outputId": "c57313e8-0896-467c-dfe7-bb1ab98d0f2c",
        "colab": {
          "base_uri": "https://localhost:8080/"
        }
      },
      "outputs": [
        {
          "output_type": "execute_result",
          "data": {
            "text/plain": [
              "array([-0.06210585, -0.26608146,  0.22787908])"
            ]
          },
          "metadata": {},
          "execution_count": 14
        }
      ],
      "source": [
        "sub_array"
      ]
    },
    {
      "cell_type": "markdown",
      "metadata": {
        "id": "0PjKXuSYF1iX"
      },
      "source": [
        "Let's now modify an element of this subarray:"
      ]
    },
    {
      "cell_type": "code",
      "execution_count": 15,
      "metadata": {
        "id": "-cTrdqfMF_Em"
      },
      "outputs": [],
      "source": [
        "sub_array[0] = 100"
      ]
    },
    {
      "cell_type": "markdown",
      "metadata": {
        "id": "5BSrHqHWGCh5"
      },
      "source": [
        "Let's check that ```sub_array``` has indeed changed:"
      ]
    },
    {
      "cell_type": "code",
      "execution_count": 16,
      "metadata": {
        "id": "lF7FFdYtGDKa",
        "outputId": "9df3c321-c482-491f-b9eb-5beb826f16ce",
        "colab": {
          "base_uri": "https://localhost:8080/"
        }
      },
      "outputs": [
        {
          "output_type": "execute_result",
          "data": {
            "text/plain": [
              "array([100.        ,  -0.26608146,   0.22787908])"
            ]
          },
          "metadata": {},
          "execution_count": 16
        }
      ],
      "source": [
        "sub_array"
      ]
    },
    {
      "cell_type": "markdown",
      "metadata": {
        "id": "BQOPc1caGKOh"
      },
      "source": [
        "Let's now also have a look at the original array:"
      ]
    },
    {
      "cell_type": "code",
      "execution_count": 17,
      "metadata": {
        "id": "ZYZMwqPAGN8q",
        "outputId": "5f03fe78-a122-492b-ee77-a04019499e8f",
        "colab": {
          "base_uri": "https://localhost:8080/"
        }
      },
      "outputs": [
        {
          "output_type": "execute_result",
          "data": {
            "text/plain": [
              "array([ -1.02874472,  10.        ,  10.        ,  10.        ,\n",
              "         1.30546109,   1.79923755,   1.00779615, 100.        ,\n",
              "        -0.26608146,   0.22787908])"
            ]
          },
          "metadata": {},
          "execution_count": 17
        }
      ],
      "source": [
        "my_array"
      ]
    },
    {
      "cell_type": "markdown",
      "metadata": {
        "id": "kEN5DCn4G1f5"
      },
      "source": [
        "**The value in the original array has changed too!**. The reason is that the slicing of the array **does not create an independent sub-array**. It is still linked to the original one. Depending on the types of modification, you might or might not encounter this problem. To be on the safe side, explicitely create a **copy** when creating a sub-array. Like that it will be independent from the original one: "
      ]
    },
    {
      "cell_type": "code",
      "execution_count": 18,
      "metadata": {
        "id": "6P_wV4hhHtnv"
      },
      "outputs": [],
      "source": [
        "sub_array = my_array[7:10].copy()\n",
        "sub_array[0] = 200"
      ]
    },
    {
      "cell_type": "code",
      "execution_count": 19,
      "metadata": {
        "id": "wG92XXlvHzFM",
        "outputId": "b712bbcb-7b0e-44ce-ca92-954e8ea4e910",
        "colab": {
          "base_uri": "https://localhost:8080/"
        }
      },
      "outputs": [
        {
          "output_type": "execute_result",
          "data": {
            "text/plain": [
              "array([200.        ,  -0.26608146,   0.22787908])"
            ]
          },
          "metadata": {},
          "execution_count": 19
        }
      ],
      "source": [
        "sub_array"
      ]
    },
    {
      "cell_type": "code",
      "execution_count": 20,
      "metadata": {
        "id": "Z5-I7hv-H1Ec",
        "outputId": "cbb7174b-c321-4662-8fd3-971bf646cef4",
        "colab": {
          "base_uri": "https://localhost:8080/"
        }
      },
      "outputs": [
        {
          "output_type": "execute_result",
          "data": {
            "text/plain": [
              "array([ -1.02874472,  10.        ,  10.        ,  10.        ,\n",
              "         1.30546109,   1.79923755,   1.00779615, 100.        ,\n",
              "        -0.26608146,   0.22787908])"
            ]
          },
          "metadata": {},
          "execution_count": 20
        }
      ],
      "source": [
        "my_array"
      ]
    },
    {
      "cell_type": "markdown",
      "metadata": {
        "id": "TFHwK8F1H226"
      },
      "source": [
        "## Boolean indexing\n",
        "\n",
        "Instead of using numerical indices to extract values from the array, we can also select them by some criteria. Let's create a new random array:"
      ]
    },
    {
      "cell_type": "code",
      "execution_count": 21,
      "metadata": {
        "id": "ctxI87WvI1Fo",
        "outputId": "64757de2-d93b-4806-f768-d8f336720776",
        "colab": {
          "base_uri": "https://localhost:8080/"
        }
      },
      "outputs": [
        {
          "output_type": "execute_result",
          "data": {
            "text/plain": [
              "array([ 0.33124076, -0.72574718, -0.04465888,  0.5170151 , -0.22755111,\n",
              "        0.70569085,  1.17498349, -0.75921433, -1.6826456 , -0.20475668])"
            ]
          },
          "metadata": {},
          "execution_count": 21
        }
      ],
      "source": [
        "my_array2 = np.random.normal(size=10)\n",
        "my_array2"
      ]
    },
    {
      "cell_type": "markdown",
      "metadata": {
        "id": "4VXv0N-fI3E_"
      },
      "source": [
        "How to proceed now if we for example only want to recover the elements that are larger than 0 ?\n",
        "\n",
        "Let's try to see what happens when we just write it down as we would in regular mathemetics:"
      ]
    },
    {
      "cell_type": "code",
      "execution_count": 22,
      "metadata": {
        "id": "u6H3C4dYJC-L",
        "outputId": "d14aa68b-d415-4a82-9e6d-295e961650cf",
        "colab": {
          "base_uri": "https://localhost:8080/"
        }
      },
      "outputs": [
        {
          "output_type": "execute_result",
          "data": {
            "text/plain": [
              "array([ True, False, False,  True, False,  True,  True, False, False,\n",
              "       False])"
            ]
          },
          "metadata": {},
          "execution_count": 22
        }
      ],
      "source": [
        "my_array2 > 0"
      ]
    },
    {
      "cell_type": "markdown",
      "metadata": {
        "id": "NtLOoe6gJETg"
      },
      "source": [
        "We see that the output is again an array, but instead of being filled with numbers, it contains only ```False``` and ```True```. Those values also exist in plain Python and are called booleans. For example:"
      ]
    },
    {
      "cell_type": "code",
      "execution_count": 23,
      "metadata": {
        "id": "QpUEST9aJSu_",
        "outputId": "73d1e0f5-d8d2-47ad-9fa5-3b6513484063",
        "colab": {
          "base_uri": "https://localhost:8080/"
        }
      },
      "outputs": [
        {
          "output_type": "execute_result",
          "data": {
            "text/plain": [
              "False"
            ]
          },
          "metadata": {},
          "execution_count": 23
        }
      ],
      "source": [
        "a = 3\n",
        "a > 10"
      ]
    },
    {
      "cell_type": "markdown",
      "metadata": {
        "id": "DaMRX9Ohn8RS"
      },
      "source": [
        "We can now create an actual boolean array:"
      ]
    },
    {
      "cell_type": "code",
      "execution_count": 24,
      "metadata": {
        "id": "YE__BOshn_7o",
        "outputId": "18601725-7bb3-4d71-cb37-a2e8357375da",
        "colab": {
          "base_uri": "https://localhost:8080/"
        }
      },
      "outputs": [
        {
          "output_type": "execute_result",
          "data": {
            "text/plain": [
              "array([ True, False, False,  True, False,  True,  True, False, False,\n",
              "       False])"
            ]
          },
          "metadata": {},
          "execution_count": 24
        }
      ],
      "source": [
        "bool_array = my_array2 > 0\n",
        "bool_array"
      ]
    },
    {
      "cell_type": "markdown",
      "metadata": {
        "id": "IzUBMbwKJ9nn"
      },
      "source": [
        "We can now use this **boolean array** ```bool_array``` to extract values from any array of the same size. Imagine that you superpose ```bool_array``` to another array ```value_array``` and only select those values in ```value_array``` which are ```True``` in ```bool_array```. Naturally we can do this with the original array itself. Instead of passing and index ```my_array[i]``` we pass the entire ```bool_array```:"
      ]
    },
    {
      "cell_type": "code",
      "execution_count": 25,
      "metadata": {
        "id": "RmxTMOrXhFR4",
        "outputId": "b5c25d3b-dd05-442e-9c41-9fe637b2650f",
        "colab": {
          "base_uri": "https://localhost:8080/",
          "height": 516
        }
      },
      "outputs": [
        {
          "output_type": "execute_result",
          "data": {
            "text/html": [
              "<img src=\"https://github.com/guiwitz/ISDAwPython_day2/raw/master/images/logical_indexing.jpeg\" width=\"700\"/>"
            ],
            "text/plain": [
              "<IPython.core.display.Image object>"
            ]
          },
          "metadata": {},
          "execution_count": 25
        }
      ],
      "source": [
        "from IPython.display import Image\n",
        "Image(url='https://github.com/guiwitz/ISDAwPython_day2/raw/master/images/logical_indexing.jpeg',width=700)"
      ]
    },
    {
      "cell_type": "code",
      "execution_count": 26,
      "metadata": {
        "id": "QWd_e2UgnjLK",
        "outputId": "fe03baea-0843-40af-e530-2c504c8f503d",
        "colab": {
          "base_uri": "https://localhost:8080/"
        }
      },
      "outputs": [
        {
          "output_type": "execute_result",
          "data": {
            "text/plain": [
              "array([0.33124076, 0.5170151 , 0.70569085, 1.17498349])"
            ]
          },
          "metadata": {},
          "execution_count": 26
        }
      ],
      "source": [
        "my_array2[bool_array] "
      ]
    },
    {
      "cell_type": "markdown",
      "metadata": {
        "id": "nCG4JCdQoEHw"
      },
      "source": [
        "Naturally this output array is much smaller than the original one as it only contains the values larger than 0."
      ]
    },
    {
      "cell_type": "markdown",
      "metadata": {
        "id": "BqxVdXevoLox"
      },
      "source": [
        "## Exercise\n",
        "\n",
        "1. Create a numpy array with values from 0 to 10 in steps of 0.5\n",
        "2. Extract the the last three elements of the array using slicing.\n",
        "3. Apply a cosine function to the full array created in (1.) and store the output in a new array.\n",
        "4. Create a boolean array telling which values in the array from (3.) are smaller than 0.\n",
        "5. Recover only those values in a new array via indexing."
      ]
    },
    {
      "cell_type": "code",
      "execution_count": null,
      "metadata": {
        "id": "4NkEfp57mw8R"
      },
      "outputs": [],
      "source": [
        ""
      ]
    }
  ],
  "metadata": {
    "colab": {
      "collapsed_sections": [],
      "name": "06-Numpy_indexing.ipynb",
      "provenance": [],
      "toc_visible": true,
      "include_colab_link": true
    },
    "kernelspec": {
      "display_name": "Python 3 (ipykernel)",
      "language": "python",
      "name": "python3"
    },
    "language_info": {
      "codemirror_mode": {
        "name": "ipython",
        "version": 3
      },
      "file_extension": ".py",
      "mimetype": "text/x-python",
      "name": "python",
      "nbconvert_exporter": "python",
      "pygments_lexer": "ipython3",
      "version": "3.9.10"
    }
  },
  "nbformat": 4,
  "nbformat_minor": 0
}